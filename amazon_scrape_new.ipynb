{
 "cells": [
  {
   "cell_type": "markdown",
   "id": "d7fd9e30",
   "metadata": {},
   "source": [
    "# Python script to scrape from Amazon given a search term input\n",
    "Product price, review count, rating , product name data, url, image url"
   ]
  },
  {
   "cell_type": "markdown",
   "id": "52d3dba5",
   "metadata": {},
   "source": [
    "## Import modules"
   ]
  },
  {
   "cell_type": "code",
   "execution_count": 121,
   "id": "2479a579",
   "metadata": {},
   "outputs": [],
   "source": [
    "import csv\n",
    "from bs4 import BeautifulSoup\n",
    "#chrome\n",
    "from selenium import webdriver\n",
    "#need to install chromedriver first"
   ]
  },
  {
   "cell_type": "markdown",
   "id": "8fa9b6e6",
   "metadata": {},
   "source": [
    "## Start up the webdriver"
   ]
  },
  {
   "cell_type": "code",
   "execution_count": 122,
   "id": "70598a66",
   "metadata": {},
   "outputs": [],
   "source": [
    "driver= webdriver.Chrome()"
   ]
  },
  {
   "cell_type": "code",
   "execution_count": 123,
   "id": "f96eb834",
   "metadata": {},
   "outputs": [],
   "source": [
    "url='https://www.amazon.com'\n",
    "driver.implicitly_wait(30)\n",
    "driver.get(url)"
   ]
  },
  {
   "cell_type": "markdown",
   "id": "12c52518",
   "metadata": {},
   "source": [
    "## Conduct Product Search"
   ]
  },
  {
   "cell_type": "code",
   "execution_count": 124,
   "id": "94e7a26f",
   "metadata": {},
   "outputs": [],
   "source": [
    "# conduct product search\n",
    "#automate only what i absolutely need to:\n",
    "# search term embeds into url, so format the url\n",
    "def get_url(search_term):\n",
    "    \"\"\"generate url from search term\"\"\"\n",
    "    template= 'https://www.amazon.com/s?k={}&ref=nb_sb_noss_1'\n",
    "    search_term = search_term.replace(' ','+')\n",
    "    return template.format(search_term)\n"
   ]
  },
  {
   "cell_type": "code",
   "execution_count": 125,
   "id": "0adcda81",
   "metadata": {},
   "outputs": [
    {
     "name": "stdout",
     "output_type": "stream",
     "text": [
      "https://www.amazon.com/s?k=necklace+for+woman&ref=nb_sb_noss_1\n"
     ]
    }
   ],
   "source": [
    "url= get_url('necklace for woman')\n",
    "print(url)"
   ]
  },
  {
   "cell_type": "code",
   "execution_count": 126,
   "id": "ecc6795e",
   "metadata": {},
   "outputs": [],
   "source": [
    "driver.get(url)"
   ]
  },
  {
   "cell_type": "code",
   "execution_count": 75,
   "id": "105a564f",
   "metadata": {},
   "outputs": [],
   "source": [
    "#Extract content from page\n",
    "soup=BeautifulSoup(driver.page_source, 'html.parser')"
   ]
  },
  {
   "cell_type": "code",
   "execution_count": 76,
   "id": "567a1d0a",
   "metadata": {},
   "outputs": [],
   "source": [
    "results= soup.find_all('div',{'data-component-type':'s-search-result'})"
   ]
  },
  {
   "cell_type": "code",
   "execution_count": 77,
   "id": "26c2f27e",
   "metadata": {},
   "outputs": [
    {
     "data": {
      "text/plain": [
       "60"
      ]
     },
     "execution_count": 77,
     "metadata": {},
     "output_type": "execute_result"
    }
   ],
   "source": [
    "len(results)"
   ]
  },
  {
   "cell_type": "code",
   "execution_count": 78,
   "id": "b5880791",
   "metadata": {},
   "outputs": [
    {
     "data": {
      "text/plain": [
       "'Sterling Silver Cubic Zirconia Halo Pendant Necklace (Round & Princess) '"
      ]
     },
     "execution_count": 78,
     "metadata": {},
     "output_type": "execute_result"
    }
   ],
   "source": [
    "#prototype the record\n",
    "item=results[0]\n",
    "#extract record header\n",
    "atag=item.h2.a\n",
    "atag.text"
   ]
  },
  {
   "cell_type": "code",
   "execution_count": 79,
   "id": "7413fc8a",
   "metadata": {},
   "outputs": [
    {
     "data": {
      "text/plain": [
       "'Sterling Silver Cubic Zirconia Halo Pendant Necklace (Round & Princess)'"
      ]
     },
     "execution_count": 79,
     "metadata": {},
     "output_type": "execute_result"
    }
   ],
   "source": [
    "description=atag.text.strip()\n",
    "description"
   ]
  },
  {
   "cell_type": "code",
   "execution_count": 80,
   "id": "292fe5c3",
   "metadata": {},
   "outputs": [],
   "source": [
    "url ='https://www.amazon.com' + atag.get('href')"
   ]
  },
  {
   "cell_type": "code",
   "execution_count": 81,
   "id": "65093a5f",
   "metadata": {},
   "outputs": [],
   "source": [
    "#get price by inspecting\n",
    "price_parent= item.find('span', 'a-price')"
   ]
  },
  {
   "cell_type": "code",
   "execution_count": 82,
   "id": "0392a2cd",
   "metadata": {},
   "outputs": [],
   "source": [
    "price = price_parent.find('span', 'a-offscreen').text"
   ]
  },
  {
   "cell_type": "code",
   "execution_count": 83,
   "id": "f4f9ac59",
   "metadata": {},
   "outputs": [
    {
     "data": {
      "text/plain": [
       "'4.4 out of 5 stars'"
      ]
     },
     "execution_count": 83,
     "metadata": {},
     "output_type": "execute_result"
    }
   ],
   "source": [
    "# star reviews\n",
    "rating= item.i.text\n",
    "rating"
   ]
  },
  {
   "cell_type": "code",
   "execution_count": 84,
   "id": "4aba94ff",
   "metadata": {},
   "outputs": [],
   "source": [
    "review_count = item.find('span',{'class':'a-size-base s-underline-text'}).text\n"
   ]
  },
  {
   "cell_type": "code",
   "execution_count": 91,
   "id": "0bb840a3",
   "metadata": {},
   "outputs": [
    {
     "data": {
      "text/plain": [
       "'https://m.media-amazon.com/images/I/71X2BLG8q-L._AC_UL320_.jpg'"
      ]
     },
     "execution_count": 91,
     "metadata": {},
     "output_type": "execute_result"
    }
   ],
   "source": [
    "img_url = item.find('img',{'class':\"s-image\"})\n",
    "img_url = img_url.get('src')\n",
    "img_url"
   ]
  },
  {
   "cell_type": "markdown",
   "id": "93b4bd14",
   "metadata": {},
   "source": [
    "## Generalize the Pattern"
   ]
  },
  {
   "cell_type": "code",
   "execution_count": 52,
   "id": "93c8dcd5",
   "metadata": {},
   "outputs": [],
   "source": [
    "\n",
    "def extract_record(item):\n",
    "    #extract and return data from a single record\n",
    "    #description and url\n",
    "    atag=item.h2.a\n",
    "    description=atag.text.strip()\n",
    "    url ='https://www.amazon.com' + atag.get('href')\n",
    "    \n",
    "    #price\n",
    "    price_parent= item.find('span', 'a-price')\n",
    "    price = price_parent.find('span', 'a-offscreen').text\n",
    "    \n",
    "    #rank and rating\n",
    "    rating= item.i.text\n",
    "    review_count = item.find('span',{'class':'a-size-base s-underline-text'}).text\n",
    "    \n",
    "    img_url = item.find('img',{'class':\"s-image\"})\n",
    "    img_url = img_url.get('src')\n",
    "    \n",
    "    result= (description, price, rating, review_count, url, img_url)\n",
    "    return result\n",
    "\n"
   ]
  },
  {
   "cell_type": "code",
   "execution_count": 55,
   "id": "bf8cd95a",
   "metadata": {},
   "outputs": [],
   "source": [
    "records =[]\n",
    "results = soup.find_all('div', {'data-component-type': 's-search-result'})\n",
    "\n",
    "for item in results:\n",
    "    records.append(extract_record(item))\n",
    "    "
   ]
  },
  {
   "cell_type": "markdown",
   "id": "5538ab67",
   "metadata": {},
   "source": [
    "## Error handling\n"
   ]
  },
  {
   "cell_type": "code",
   "execution_count": 56,
   "id": "9294285b",
   "metadata": {},
   "outputs": [],
   "source": [
    "def extract_record(item):\n",
    "    #extract and return data from a single record\n",
    "    #description and url\n",
    "    atag=item.h2.a\n",
    "    description=atag.text.strip()\n",
    "    url ='https://www.amazon.com' + atag.get('href')\n",
    "    img_url = item.find('img',{'class':\"s-image\"})\n",
    "    img_url = img_url.get('src')\n",
    "    \n",
    "    try: \n",
    "        #price\n",
    "        price_parent= item.find('span', 'a-price')\n",
    "        price = price_parent.find('span', 'a-offscreen').text\n",
    "    except AttributeError:\n",
    "        return\n",
    "    \n",
    "    try:\n",
    "        #rank and rating\n",
    "        rating= item.i.text\n",
    "        review_count = item.find('span',{'class':'a-size-base s-underline-text'}).text\n",
    "\n",
    "    except AttributeError:\n",
    "        rating=''\n",
    "        review_count =''\n",
    "        \n",
    "    result= (description, price, rating, review_count, url, img_url)\n",
    "    \n",
    "    return result\n",
    "\n"
   ]
  },
  {
   "cell_type": "code",
   "execution_count": 57,
   "id": "81ab08a7",
   "metadata": {},
   "outputs": [],
   "source": [
    "records =[]\n",
    "results = soup.find_all('div', {'data-component-type': 's-search-result'})\n",
    "\n",
    "for item in results:\n",
    "    record =extract_record(item)\n",
    "    if record: \n",
    "        records.append(record)"
   ]
  },
  {
   "cell_type": "code",
   "execution_count": 58,
   "id": "87babbfd",
   "metadata": {},
   "outputs": [
    {
     "data": {
      "text/plain": [
       "('Sterling Silver Cubic Zirconia Halo Pendant Necklace (Round & Princess)',\n",
       " '$20.80',\n",
       " '4.4 out of 5 stars',\n",
       " '1,250',\n",
       " 'https://www.amazon.com/gp/slredirect/picassoRedirect.html/ref=pa_sp_atf_aps_sr_pg1_1?ie=UTF8&adId=A02173901HT2FVKE9UH8A&url=%2FAmazon-Essentials-Sterling-Zirconia-Necklace%2Fdp%2FB00OZKEKAM%2Fref%3Dsr_1_1_sspa%3Fcrid%3D1Q9SL57XPI391%26keywords%3Dnecklace%2Bfor%2Bwomen%26qid%3D1648499243%26sprefix%3Dnecklace%2Bfor%2Bwomen%252Caps%252C65%26sr%3D8-1-spons%26psc%3D1&qualifier=1648499243&id=5787439452785647&widgetName=sp_atf')"
      ]
     },
     "execution_count": 58,
     "metadata": {},
     "output_type": "execute_result"
    }
   ],
   "source": [
    "records[0]"
   ]
  },
  {
   "cell_type": "code",
   "execution_count": 59,
   "id": "cd650a29",
   "metadata": {},
   "outputs": [
    {
     "name": "stdout",
     "output_type": "stream",
     "text": [
      "$20.80\n",
      "$39.99\n",
      "$79.99\n",
      "$26.34\n",
      "$48.00\n",
      "$15.40\n",
      "$70.00\n",
      "$99.00\n",
      "$12.95\n",
      "$17.50\n",
      "$115.00\n",
      "$129.80\n",
      "$36.00\n",
      "$30.60\n",
      "$27.00\n",
      "$69.99\n",
      "$18.50\n",
      "$49.99\n",
      "$99.99\n",
      "$38.00\n",
      "$37.00\n",
      "$65.10\n",
      "$250.00\n",
      "$125.00\n",
      "$7.98\n",
      "$225.00\n",
      "$25.30\n",
      "$28.30\n",
      "$105.11\n",
      "$74.20\n",
      "$20.80\n",
      "$69.99\n",
      "$12.99\n",
      "$37.98\n",
      "$17.60\n",
      "$32.00\n",
      "$16.60\n",
      "$24.20\n",
      "$44.20\n",
      "$32.00\n",
      "$65.00\n",
      "$28.00\n",
      "$134.90\n",
      "$49.00\n",
      "$38.00\n",
      "$54.95\n",
      "$35.00\n",
      "$35.00\n",
      "$279.00\n",
      "$12.95\n",
      "$28.30\n",
      "$9.69\n",
      "$14.99\n",
      "$17.60\n",
      "$26.99\n",
      "$29.99\n",
      "$23.40\n",
      "$18.17\n",
      "$18.60\n",
      "$59.99\n"
     ]
    }
   ],
   "source": [
    "for row in records:\n",
    "    print(row[1])"
   ]
  },
  {
   "cell_type": "markdown",
   "id": "af4e39c6",
   "metadata": {},
   "source": [
    "## Getting to Next Page"
   ]
  },
  {
   "cell_type": "code",
   "execution_count": 183,
   "id": "8e2e85e7",
   "metadata": {},
   "outputs": [],
   "source": [
    "#adjust query in url using string formatting\n",
    "#modify get url function\n",
    "# url needs to be in this format: https://www.amazon.com/s?k=necklaces+for+women&page=2&ref=sr_pg_2\n",
    "def get_url(search_term, page):\n",
    "    #generate url from search term\n",
    "    template= 'https://www.amazon.com/s?k={}'\n",
    "    search_term = search_term.replace(' ','+')\n",
    "    \n",
    "    #add term query to url\n",
    "    url= template.format(search_term + '{}')\n",
    "    url2= url.format('&page={}')\n",
    "    url3 =url2.format(page)\n",
    "    url4= url3 +'&ref=sr_pg_{}'\n",
    "    url5 =url4.format(page)\n",
    "    return url5\n",
    "    "
   ]
  },
  {
   "cell_type": "code",
   "execution_count": 184,
   "id": "47ad83e9",
   "metadata": {},
   "outputs": [
    {
     "data": {
      "text/plain": [
       "'https://www.amazon.com/s?k=necklaces+for+women&page=9&ref=sr_pg_9'"
      ]
     },
     "execution_count": 184,
     "metadata": {},
     "output_type": "execute_result"
    }
   ],
   "source": [
    "get_url('necklaces for women', 9)"
   ]
  },
  {
   "cell_type": "markdown",
   "id": "0b721d68",
   "metadata": {},
   "source": [
    "# Put it all together and Scrape"
   ]
  },
  {
   "cell_type": "code",
   "execution_count": 193,
   "id": "174bf80c",
   "metadata": {},
   "outputs": [],
   "source": [
    "import csv\n",
    "from bs4 import BeautifulSoup\n",
    "#chrome\n",
    "from selenium import webdriver\n",
    "\n",
    "def get_url(search_term, page):\n",
    "    #generate url from search term\n",
    "    template= 'https://www.amazon.com/s?k={}'\n",
    "    search_term = search_term.replace(' ','+')\n",
    "    \n",
    "    #add term query to url\n",
    "    url= template.format(search_term + '{}')\n",
    "    url2= url.format('&page={}')\n",
    "    url3 =url2.format(page)\n",
    "    url4= url3 +'&ref=sr_pg_{}'\n",
    "    url5 =url4.format(page)\n",
    "    #add page query placeholder\n",
    "    return url5\n",
    "    \n",
    "\n",
    "def extract_record(item):\n",
    "    #extract and return data from a single record\n",
    "    #description and url\n",
    "    atag=item.h2.a\n",
    "    description=atag.text.strip()\n",
    "    url ='https://www.amazon.com' + atag.get('href')\n",
    "    img_url = item.find('img',{'class':\"s-image\"})\n",
    "    img_url = img_url.get('src')\n",
    "    \n",
    "    try: \n",
    "        #price\n",
    "        price_parent= item.find('span', 'a-price')\n",
    "        price = price_parent.find('span', 'a-offscreen').text\n",
    "    except AttributeError:\n",
    "        return\n",
    "    \n",
    "    try:\n",
    "    #rank and rating\n",
    "        rating= item.i.text\n",
    "        review_count = item.find('span',{'class':'a-size-base s-underline-text'}).text\n",
    "\n",
    "    except AttributeError:\n",
    "        rating=''\n",
    "        review_count =''\n",
    "        \n",
    "    result= (description, price, rating, review_count, url, img_url)\n",
    "    \n",
    "    return result\n",
    "\n",
    "def main(search_term):\n",
    "    \"\"\"Run main program routine\"\"\"\n",
    "    #startup the webdriver\n",
    "    driver= webdriver.Chrome()\n",
    "    record=[]\n",
    "    url= get_url(search_term,1)\n",
    "    \n",
    "    for page in range(1,50): # first 50 pages\n",
    "        driver.get(url.format(page))\n",
    "        url= get_url(search_term, page)\n",
    "        soup = BeautifulSoup(driver.page_source, 'html.parser')\n",
    "        results = soup.find_all('div', {'data-component-type': 's-search-result'})\n",
    "    \n",
    "        for item in results:\n",
    "            record = extract_record(item)\n",
    "            if record:\n",
    "                records.append(record)\n",
    "    \n",
    "    driver.close()\n",
    "    \n",
    "    #save data to csv\n",
    "    with open('results.csv', 'w', newline='', encoding='utf-8') as f:\n",
    "        writer = csv.writer(f)\n",
    "        writer.writerow(['Description', 'Price', 'Rating', 'ReviewCount', 'Url', 'ImgUrl'])\n",
    "        writer.writerows(records)\n",
    "\n",
    "       \n",
    "        \n",
    "        "
   ]
  },
  {
   "cell_type": "code",
   "execution_count": 194,
   "id": "d621ea3f",
   "metadata": {},
   "outputs": [],
   "source": [
    "main('necklace for women')"
   ]
  },
  {
   "cell_type": "code",
   "execution_count": null,
   "id": "e3720ded",
   "metadata": {},
   "outputs": [],
   "source": []
  }
 ],
 "metadata": {
  "kernelspec": {
   "display_name": "Python 3 (ipykernel)",
   "language": "python",
   "name": "python3"
  },
  "language_info": {
   "codemirror_mode": {
    "name": "ipython",
    "version": 3
   },
   "file_extension": ".py",
   "mimetype": "text/x-python",
   "name": "python",
   "nbconvert_exporter": "python",
   "pygments_lexer": "ipython3",
   "version": "3.9.7"
  },
  "varInspector": {
   "cols": {
    "lenName": 16,
    "lenType": 16,
    "lenVar": 40
   },
   "kernels_config": {
    "python": {
     "delete_cmd_postfix": "",
     "delete_cmd_prefix": "del ",
     "library": "var_list.py",
     "varRefreshCmd": "print(var_dic_list())"
    },
    "r": {
     "delete_cmd_postfix": ") ",
     "delete_cmd_prefix": "rm(",
     "library": "var_list.r",
     "varRefreshCmd": "cat(var_dic_list()) "
    }
   },
   "types_to_exclude": [
    "module",
    "function",
    "builtin_function_or_method",
    "instance",
    "_Feature"
   ],
   "window_display": false
  }
 },
 "nbformat": 4,
 "nbformat_minor": 5
}
