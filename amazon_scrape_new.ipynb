{
 "cells": [
  {
   "cell_type": "markdown",
   "id": "84896213",
   "metadata": {},
   "source": [
    "# Python script to scrape from Amazon given a search term input\n",
    "Product price, review count, rating , product name data, url"
   ]
  },
  {
   "cell_type": "markdown",
   "id": "99d9ec9a",
   "metadata": {},
   "source": [
    "## Import modules"
   ]
  },
  {
   "cell_type": "code",
   "execution_count": 1,
   "id": "2479a579",
   "metadata": {},
   "outputs": [],
   "source": [
    "import csv\n",
    "from bs4 import BeautifulSoup\n",
    "#chrome\n",
    "from selenium import webdriver"
   ]
  },
  {
   "cell_type": "markdown",
   "id": "b2f59fee",
   "metadata": {},
   "source": [
    "## Start up the webdriver"
   ]
  },
  {
   "cell_type": "code",
   "execution_count": 17,
   "id": "70598a66",
   "metadata": {},
   "outputs": [],
   "source": [
    "driver= webdriver.Chrome()"
   ]
  },
  {
   "cell_type": "code",
   "execution_count": 19,
   "id": "f96eb834",
   "metadata": {},
   "outputs": [],
   "source": [
    "url='https://www.amazon.com'\n",
    "driver.implicitly_wait(30)\n",
    "driver.get(url)"
   ]
  },
  {
   "cell_type": "markdown",
   "id": "dc41da4f",
   "metadata": {},
   "source": [
    "## Conduct Product Search"
   ]
  },
  {
   "cell_type": "code",
   "execution_count": 20,
   "id": "94e7a26f",
   "metadata": {},
   "outputs": [],
   "source": [
    "# conduct product search\n",
    "#automate only what i absolutely need to:\n",
    "# search term embeds into url, so format the url\n",
    "def get_url(search_term):\n",
    "    \"\"\"generate url from search term\"\"\"\n",
    "    template= 'https://www.amazon.com/s?k={}&crid=1Q9SL57XPI391&sprefix=necklace+for+women%2Caps%2C65&ref=nb_sb_noss_1'\n",
    "    search_term = search_term.replace(' ','+')\n",
    "    return template.format(search_term)\n"
   ]
  },
  {
   "cell_type": "code",
   "execution_count": 25,
   "id": "a3e7b8cf",
   "metadata": {},
   "outputs": [
    {
     "name": "stdout",
     "output_type": "stream",
     "text": [
      "https://www.amazon.com/s?k=necklace+for+woman&crid=1Q9SL57XPI391&sprefix=necklace+for+women%2Caps%2C65&ref=nb_sb_noss_1\n"
     ]
    }
   ],
   "source": [
    "url= get_url('necklace for woman')\n",
    "print(url)"
   ]
  },
  {
   "cell_type": "code",
   "execution_count": 26,
   "id": "170d4b0d",
   "metadata": {},
   "outputs": [],
   "source": [
    "driver.get(url)"
   ]
  },
  {
   "cell_type": "code",
   "execution_count": 30,
   "id": "618a4a63",
   "metadata": {},
   "outputs": [],
   "source": [
    "#Extract content from page\n",
    "soup=BeautifulSoup(driver.page_source, 'html.parser')"
   ]
  },
  {
   "cell_type": "code",
   "execution_count": 32,
   "id": "bf427b4c",
   "metadata": {},
   "outputs": [],
   "source": [
    "results= soup.find_all('div',{'data-component-type':'s-search-result'})"
   ]
  },
  {
   "cell_type": "code",
   "execution_count": 33,
   "id": "97dacd02",
   "metadata": {},
   "outputs": [
    {
     "data": {
      "text/plain": [
       "60"
      ]
     },
     "execution_count": 33,
     "metadata": {},
     "output_type": "execute_result"
    }
   ],
   "source": [
    "len(results)"
   ]
  },
  {
   "cell_type": "code",
   "execution_count": 35,
   "id": "b6fa837c",
   "metadata": {},
   "outputs": [
    {
     "data": {
      "text/plain": [
       "'Sterling Silver Cubic Zirconia Halo Pendant Necklace (Round & Princess) '"
      ]
     },
     "execution_count": 35,
     "metadata": {},
     "output_type": "execute_result"
    }
   ],
   "source": [
    "#prototype the record\n",
    "item=results[0]\n",
    "#extract record header\n",
    "atag=item.h2.a\n",
    "atag.text"
   ]
  },
  {
   "cell_type": "code",
   "execution_count": 36,
   "id": "a14c4d75",
   "metadata": {},
   "outputs": [
    {
     "data": {
      "text/plain": [
       "'Sterling Silver Cubic Zirconia Halo Pendant Necklace (Round & Princess)'"
      ]
     },
     "execution_count": 36,
     "metadata": {},
     "output_type": "execute_result"
    }
   ],
   "source": [
    "description=atag.text.strip()\n",
    "description"
   ]
  },
  {
   "cell_type": "code",
   "execution_count": 38,
   "id": "a0779635",
   "metadata": {},
   "outputs": [],
   "source": [
    "url ='https://www.amazon.com' + atag.get('href')"
   ]
  },
  {
   "cell_type": "code",
   "execution_count": 39,
   "id": "c5979ec9",
   "metadata": {},
   "outputs": [],
   "source": [
    "#get price by inspecting\n",
    "price_parent= item.find('span', 'a-price')"
   ]
  },
  {
   "cell_type": "code",
   "execution_count": 40,
   "id": "07dbd2b5",
   "metadata": {},
   "outputs": [
    {
     "data": {
      "text/plain": [
       "'$20.80'"
      ]
     },
     "execution_count": 40,
     "metadata": {},
     "output_type": "execute_result"
    }
   ],
   "source": [
    "price = price_parent.find('span', 'a-offscreen').text"
   ]
  },
  {
   "cell_type": "code",
   "execution_count": 48,
   "id": "e76aa68b",
   "metadata": {},
   "outputs": [
    {
     "data": {
      "text/plain": [
       "'4.4 out of 5 stars'"
      ]
     },
     "execution_count": 48,
     "metadata": {},
     "output_type": "execute_result"
    }
   ],
   "source": [
    "# star reviews\n",
    "rating= item.i.text\n",
    "rating"
   ]
  },
  {
   "cell_type": "code",
   "execution_count": 51,
   "id": "d3d997ea",
   "metadata": {},
   "outputs": [],
   "source": [
    "review_count = item.find('span',{'class':'a-size-base s-underline-text'}).text\n"
   ]
  },
  {
   "cell_type": "markdown",
   "id": "65a3bb76",
   "metadata": {},
   "source": [
    "## Generalize the Pattern"
   ]
  },
  {
   "cell_type": "code",
   "execution_count": 52,
   "id": "bf52475f",
   "metadata": {},
   "outputs": [],
   "source": [
    "\n",
    "def extract_record(item):\n",
    "    #extract and return data from a single record\n",
    "    #description and url\n",
    "    atag=item.h2.a\n",
    "    description=atag.text.strip()\n",
    "    url ='https://www.amazon.com' + atag.get('href')\n",
    "    \n",
    "    #price\n",
    "    price_parent= item.find('span', 'a-price')\n",
    "    price = price_parent.find('span', 'a-offscreen').text\n",
    "    \n",
    "    #rank and rating\n",
    "    rating= item.i.text\n",
    "    review_count = item.find('span',{'class':'a-size-base s-underline-text'}).text\n",
    "    \n",
    "    result= (description, price, rating, review_count, url)\n",
    "    return result\n",
    "\n"
   ]
  },
  {
   "cell_type": "code",
   "execution_count": 55,
   "id": "ac5631a0",
   "metadata": {},
   "outputs": [],
   "source": [
    "records =[]\n",
    "results = soup.find_all('div', {'data-component-type': 's-search-result'})\n",
    "\n",
    "for item in results:\n",
    "    records.append(extract_record(item))\n",
    "    "
   ]
  },
  {
   "cell_type": "markdown",
   "id": "13fb9bc9",
   "metadata": {},
   "source": [
    "## Error handling\n"
   ]
  },
  {
   "cell_type": "code",
   "execution_count": 56,
   "id": "5267e8d4",
   "metadata": {},
   "outputs": [],
   "source": [
    "def extract_record(item):\n",
    "    #extract and return data from a single record\n",
    "    #description and url\n",
    "    atag=item.h2.a\n",
    "    description=atag.text.strip()\n",
    "    url ='https://www.amazon.com' + atag.get('href')\n",
    "    \n",
    "    try: \n",
    "        #price\n",
    "        price_parent= item.find('span', 'a-price')\n",
    "        price = price_parent.find('span', 'a-offscreen').text\n",
    "    except AttributeError:\n",
    "        return\n",
    "    \n",
    "    try:\n",
    "    #rank and rating\n",
    "        rating= item.i.text\n",
    "        review_count = item.find('span',{'class':'a-size-base s-underline-text'}).text\n",
    "\n",
    "    except AttributeError:\n",
    "        rating=''\n",
    "        review_count =''\n",
    "        \n",
    "    result= (description, price, rating, review_count, url)\n",
    "    \n",
    "    return result\n",
    "\n"
   ]
  },
  {
   "cell_type": "code",
   "execution_count": 57,
   "id": "f25beb7a",
   "metadata": {},
   "outputs": [],
   "source": [
    "records =[]\n",
    "results = soup.find_all('div', {'data-component-type': 's-search-result'})\n",
    "\n",
    "for item in results:\n",
    "    record =extract_record(item)\n",
    "    if record: \n",
    "        records.append(record)"
   ]
  },
  {
   "cell_type": "code",
   "execution_count": 58,
   "id": "bb4113c9",
   "metadata": {},
   "outputs": [
    {
     "data": {
      "text/plain": [
       "('Sterling Silver Cubic Zirconia Halo Pendant Necklace (Round & Princess)',\n",
       " '$20.80',\n",
       " '4.4 out of 5 stars',\n",
       " '1,250',\n",
       " 'https://www.amazon.com/gp/slredirect/picassoRedirect.html/ref=pa_sp_atf_aps_sr_pg1_1?ie=UTF8&adId=A02173901HT2FVKE9UH8A&url=%2FAmazon-Essentials-Sterling-Zirconia-Necklace%2Fdp%2FB00OZKEKAM%2Fref%3Dsr_1_1_sspa%3Fcrid%3D1Q9SL57XPI391%26keywords%3Dnecklace%2Bfor%2Bwomen%26qid%3D1648499243%26sprefix%3Dnecklace%2Bfor%2Bwomen%252Caps%252C65%26sr%3D8-1-spons%26psc%3D1&qualifier=1648499243&id=5787439452785647&widgetName=sp_atf')"
      ]
     },
     "execution_count": 58,
     "metadata": {},
     "output_type": "execute_result"
    }
   ],
   "source": [
    "records[0]"
   ]
  },
  {
   "cell_type": "code",
   "execution_count": 59,
   "id": "7505985a",
   "metadata": {},
   "outputs": [
    {
     "name": "stdout",
     "output_type": "stream",
     "text": [
      "$20.80\n",
      "$39.99\n",
      "$79.99\n",
      "$26.34\n",
      "$48.00\n",
      "$15.40\n",
      "$70.00\n",
      "$99.00\n",
      "$12.95\n",
      "$17.50\n",
      "$115.00\n",
      "$129.80\n",
      "$36.00\n",
      "$30.60\n",
      "$27.00\n",
      "$69.99\n",
      "$18.50\n",
      "$49.99\n",
      "$99.99\n",
      "$38.00\n",
      "$37.00\n",
      "$65.10\n",
      "$250.00\n",
      "$125.00\n",
      "$7.98\n",
      "$225.00\n",
      "$25.30\n",
      "$28.30\n",
      "$105.11\n",
      "$74.20\n",
      "$20.80\n",
      "$69.99\n",
      "$12.99\n",
      "$37.98\n",
      "$17.60\n",
      "$32.00\n",
      "$16.60\n",
      "$24.20\n",
      "$44.20\n",
      "$32.00\n",
      "$65.00\n",
      "$28.00\n",
      "$134.90\n",
      "$49.00\n",
      "$38.00\n",
      "$54.95\n",
      "$35.00\n",
      "$35.00\n",
      "$279.00\n",
      "$12.95\n",
      "$28.30\n",
      "$9.69\n",
      "$14.99\n",
      "$17.60\n",
      "$26.99\n",
      "$29.99\n",
      "$23.40\n",
      "$18.17\n",
      "$18.60\n",
      "$59.99\n"
     ]
    }
   ],
   "source": [
    "for row in records:\n",
    "    print(row[1])"
   ]
  },
  {
   "cell_type": "markdown",
   "id": "b3d62836",
   "metadata": {},
   "source": [
    "## Getting to Next Page"
   ]
  },
  {
   "cell_type": "code",
   "execution_count": 60,
   "id": "e4bcd5fe",
   "metadata": {},
   "outputs": [],
   "source": [
    "#adjust query in url using string formatting\n",
    "#modify get url function\n",
    "\n",
    "def get_url(search_term):\n",
    "    #generate url from search term\n",
    "    template= 'https://www.amazon.com/s?k={}&crid=1Q9SL57XPI391&sprefix=necklace+for+women%2Caps%2C65&ref=nb_sb_noss_1'\n",
    "    search_term = search_term.replace(' ','+')\n",
    "    \n",
    "    #add term query to url\n",
    "    url= templage.format(search_term)\n",
    "    \n",
    "    #add page query placeholder\n",
    "    url += '&page{}'\n",
    "    \n",
    "    return url"
   ]
  },
  {
   "cell_type": "markdown",
   "id": "493d3dd5",
   "metadata": {},
   "source": [
    "# Put it all together and Scrape"
   ]
  },
  {
   "cell_type": "code",
   "execution_count": 66,
   "id": "dc2356d2",
   "metadata": {},
   "outputs": [],
   "source": [
    "import csv\n",
    "from bs4 import BeautifulSoup\n",
    "#chrome\n",
    "from selenium import webdriver\n",
    "\n",
    "def get_url(search_term):\n",
    "    #generate url from search term\n",
    "    template= 'https://www.amazon.com/s?k={}&crid=1Q9SL57XPI391&sprefix=necklace+for+women%2Caps%2C65&ref=nb_sb_noss_1'\n",
    "    search_term = search_term.replace(' ','+')\n",
    "    \n",
    "    #add term query to url\n",
    "    url= template.format(search_term)\n",
    "    \n",
    "    #add page query placeholder\n",
    "    url += '&page{}'\n",
    "    \n",
    "    return url\n",
    "\n",
    "def extract_record(item):\n",
    "    #extract and return data from a single record\n",
    "    #description and url\n",
    "    atag=item.h2.a\n",
    "    description=atag.text.strip()\n",
    "    url ='https://www.amazon.com' + atag.get('href')\n",
    "    \n",
    "    try: \n",
    "        #price\n",
    "        price_parent= item.find('span', 'a-price')\n",
    "        price = price_parent.find('span', 'a-offscreen').text\n",
    "    except AttributeError:\n",
    "        return\n",
    "    \n",
    "    try:\n",
    "    #rank and rating\n",
    "        rating= item.i.text\n",
    "        review_count = item.find('span',{'class':'a-size-base s-underline-text'}).text\n",
    "\n",
    "    except AttributeError:\n",
    "        rating=''\n",
    "        review_count =''\n",
    "        \n",
    "    result= (description, price, rating, review_count, url)\n",
    "    \n",
    "    return result\n",
    "\n",
    "def main(search_term):\n",
    "    \"\"\"Run main program routine\"\"\"\n",
    "    #startup the webdriver\n",
    "    driver= webdriver.Chrome()\n",
    "    \n",
    "    record=[]\n",
    "    url= get_url(search_term)\n",
    "    \n",
    "    for page in range(1,21): # first 20 pages\n",
    "        driver.get(url.format(page))\n",
    "        soup = BeautifulSoup(driver.page_source, 'html.parser')\n",
    "        results = soup.find_all('div', {'data-component-type': 's-search-result'})\n",
    "    \n",
    "        for item in results:\n",
    "            record = extract_record(item)\n",
    "            if record:\n",
    "                records.append(record)\n",
    "    \n",
    "    driver.close()\n",
    "    \n",
    "    #save data to csv\n",
    "    with open('results.csv', 'w', newline='', encoding='utf-8') as f:\n",
    "        writer = csv.writer(f)\n",
    "        writer.writerow(['Description', 'Price', 'Rating', 'ReviewCount', 'Url'])\n",
    "        writer.writerows(records)"
   ]
  },
  {
   "cell_type": "code",
   "execution_count": 67,
   "id": "ce5e9446",
   "metadata": {},
   "outputs": [],
   "source": [
    "main('necklace for women')"
   ]
  },
  {
   "cell_type": "code",
   "execution_count": null,
   "id": "6236c00a",
   "metadata": {},
   "outputs": [],
   "source": []
  }
 ],
 "metadata": {
  "kernelspec": {
   "display_name": "Python 3 (ipykernel)",
   "language": "python",
   "name": "python3"
  },
  "language_info": {
   "codemirror_mode": {
    "name": "ipython",
    "version": 3
   },
   "file_extension": ".py",
   "mimetype": "text/x-python",
   "name": "python",
   "nbconvert_exporter": "python",
   "pygments_lexer": "ipython3",
   "version": "3.9.7"
  },
  "varInspector": {
   "cols": {
    "lenName": 16,
    "lenType": 16,
    "lenVar": 40
   },
   "kernels_config": {
    "python": {
     "delete_cmd_postfix": "",
     "delete_cmd_prefix": "del ",
     "library": "var_list.py",
     "varRefreshCmd": "print(var_dic_list())"
    },
    "r": {
     "delete_cmd_postfix": ") ",
     "delete_cmd_prefix": "rm(",
     "library": "var_list.r",
     "varRefreshCmd": "cat(var_dic_list()) "
    }
   },
   "types_to_exclude": [
    "module",
    "function",
    "builtin_function_or_method",
    "instance",
    "_Feature"
   ],
   "window_display": false
  }
 },
 "nbformat": 4,
 "nbformat_minor": 5
}
